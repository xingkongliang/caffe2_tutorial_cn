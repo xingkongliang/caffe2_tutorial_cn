{
 "cells": [
  {
   "cell_type": "markdown",
   "metadata": {},
   "source": [
    "# Caffe2 基本概念 - Net"
   ]
  },
  {
   "cell_type": "markdown",
   "metadata": {},
   "source": [
    "在这个教程中，我们将学习一些Caffe2的基本概念：nets。\n",
    "\n",
    "首先，让我们导入caffe2的 `core` 和 `workspace`，这两项是你最需要的。如果你想操作由Caffe2生成的协议缓冲区，你也需要从caffe2.proto导入caffe2_pb2。"
   ]
  },
  {
   "cell_type": "code",
   "execution_count": 1,
   "metadata": {
    "collapsed": true
   },
   "outputs": [],
   "source": [
    "from __future__ import absolute_import\n",
    "from __future__ import division\n",
    "from __future__ import print_function\n",
    "from __future__ import unicode_literals\n",
    "\n",
    "# 导入一些标准库\n",
    "from matplotlib import pyplot\n",
    "import numpy as np\n",
    "import time\n",
    "\n",
    "# Fof Caffe2\n",
    "from caffe2.python import core, workspace\n",
    "from caffe2.proto import caffe2_pb2\n",
    "\n",
    "%matplotlib inline"
   ]
  },
  {
   "cell_type": "markdown",
   "metadata": {},
   "source": [
    "## Nets"
   ]
  },
  {
   "cell_type": "markdown",
   "metadata": {},
   "source": [
    "网络本质上是计算图。一个网络由多个operators组成，就像一个由一些列命令组成的程序一些样。\n",
    "\n",
    "当我们谈论网络时，我们还将讨论BlobReference，它是一个包装字符串的对象，因此我们可以轻松地对运算符进行链接。\n",
    "\n",
    "Caffe2的core是一个围绕NetDef protocol buffer(协议缓冲区)的包装类。"
   ]
  },
  {
   "cell_type": "code",
   "execution_count": 2,
   "metadata": {
    "scrolled": true
   },
   "outputs": [
    {
     "name": "stdout",
     "output_type": "stream",
     "text": [
      "Current network proto:\n",
      "\n",
      "name: \"my_first_net\"\n",
      "\n"
     ]
    }
   ],
   "source": [
    "net = core.Net(\"my_first_net\")\n",
    "print(\"Current network proto:\\n\\n{}\".format(net.Proto()))"
   ]
  },
  {
   "cell_type": "markdown",
   "metadata": {},
   "source": [
    "创建一个叫做X的blob， 并且使用GaussianFill用一些随机的数据填充它。"
   ]
  },
  {
   "cell_type": "code",
   "execution_count": 3,
   "metadata": {
    "scrolled": true
   },
   "outputs": [
    {
     "name": "stdout",
     "output_type": "stream",
     "text": [
      "New network proto:\n",
      "\n",
      "name: \"my_first_net\"\n",
      "op {\n",
      "  output: \"X\"\n",
      "  name: \"\"\n",
      "  type: \"GaussianFill\"\n",
      "  arg {\n",
      "    name: \"std\"\n",
      "    f: 1.0\n",
      "  }\n",
      "  arg {\n",
      "    name: \"run_once\"\n",
      "    i: 0\n",
      "  }\n",
      "  arg {\n",
      "    name: \"shape\"\n",
      "    ints: 2\n",
      "    ints: 3\n",
      "  }\n",
      "  arg {\n",
      "    name: \"mean\"\n",
      "    f: 0.0\n",
      "  }\n",
      "}\n",
      "\n"
     ]
    }
   ],
   "source": [
    "X = net.GaussianFill([], [\"X\"], mean=0.0, std=1.0, shape=[2, 3], run_once=0)\n",
    "print(\"New network proto:\\n\\n{}\".format(net.Proto()))"
   ]
  },
  {
   "cell_type": "code",
   "execution_count": 4,
   "metadata": {},
   "outputs": [
    {
     "name": "stdout",
     "output_type": "stream",
     "text": [
      "Type of X is: <class 'caffe2.python.core.BlobReference'>\n",
      "The blob name is: X\n"
     ]
    }
   ],
   "source": [
    "print(\"Type of X is: {}\".format(type(X)))\n",
    "print(\"The blob name is: {}\".format(str(X)))"
   ]
  },
  {
   "cell_type": "markdown",
   "metadata": {},
   "source": [
    "继续创建W和b。"
   ]
  },
  {
   "cell_type": "code",
   "execution_count": 5,
   "metadata": {
    "collapsed": true
   },
   "outputs": [],
   "source": [
    "W = net.GaussianFill([], [\"W\"], mean=0.0, std=1.0, shape=[5, 3], run_once=0)\n",
    "b = net.ConstantFill([], [\"b\"], shape=[5,], value=1.0, run_once=0)"
   ]
  },
  {
   "cell_type": "markdown",
   "metadata": {},
   "source": [
    "由于BlobReference对象知道它是从哪个网络生成的，除了从net创建运算符之外，您还可以从BlobReferences创建运算符。 \n",
    "\n",
    "让我们以这种方式创建FC运算符。"
   ]
  },
  {
   "cell_type": "code",
   "execution_count": 6,
   "metadata": {
    "collapsed": true
   },
   "outputs": [],
   "source": [
    "Y = X.FC([W, b], [\"Y\"])"
   ]
  },
  {
   "cell_type": "markdown",
   "metadata": {},
   "source": [
    "`X.FC(...)`只是通过插入X作为运算符的第一个输入来委托给`net.FC`，所以上面的方式相当于\n",
    "\n",
    "```\n",
    "    Y = net.FC([X, W, b], [\"Y\"])\n",
    "```"
   ]
  },
  {
   "cell_type": "markdown",
   "metadata": {},
   "source": [
    "让我们看一下当前的网络。"
   ]
  },
  {
   "cell_type": "code",
   "execution_count": 7,
   "metadata": {},
   "outputs": [
    {
     "name": "stdout",
     "output_type": "stream",
     "text": [
      "Current network proto:\n",
      "\n",
      "name: \"my_first_net\"\n",
      "op {\n",
      "  output: \"X\"\n",
      "  name: \"\"\n",
      "  type: \"GaussianFill\"\n",
      "  arg {\n",
      "    name: \"std\"\n",
      "    f: 1.0\n",
      "  }\n",
      "  arg {\n",
      "    name: \"run_once\"\n",
      "    i: 0\n",
      "  }\n",
      "  arg {\n",
      "    name: \"shape\"\n",
      "    ints: 2\n",
      "    ints: 3\n",
      "  }\n",
      "  arg {\n",
      "    name: \"mean\"\n",
      "    f: 0.0\n",
      "  }\n",
      "}\n",
      "op {\n",
      "  output: \"W\"\n",
      "  name: \"\"\n",
      "  type: \"GaussianFill\"\n",
      "  arg {\n",
      "    name: \"std\"\n",
      "    f: 1.0\n",
      "  }\n",
      "  arg {\n",
      "    name: \"run_once\"\n",
      "    i: 0\n",
      "  }\n",
      "  arg {\n",
      "    name: \"shape\"\n",
      "    ints: 5\n",
      "    ints: 3\n",
      "  }\n",
      "  arg {\n",
      "    name: \"mean\"\n",
      "    f: 0.0\n",
      "  }\n",
      "}\n",
      "op {\n",
      "  output: \"b\"\n",
      "  name: \"\"\n",
      "  type: \"ConstantFill\"\n",
      "  arg {\n",
      "    name: \"run_once\"\n",
      "    i: 0\n",
      "  }\n",
      "  arg {\n",
      "    name: \"shape\"\n",
      "    ints: 5\n",
      "  }\n",
      "  arg {\n",
      "    name: \"value\"\n",
      "    f: 1.0\n",
      "  }\n",
      "}\n",
      "op {\n",
      "  input: \"X\"\n",
      "  input: \"W\"\n",
      "  input: \"b\"\n",
      "  output: \"Y\"\n",
      "  name: \"\"\n",
      "  type: \"FC\"\n",
      "}\n",
      "\n"
     ]
    }
   ],
   "source": [
    "print(\"Current network proto:\\n\\n{}\".format(net.Proto()))"
   ]
  },
  {
   "cell_type": "markdown",
   "metadata": {},
   "source": [
    "如果感觉上边的内容它冗长，可以可视化这个图。 Caffe2附带了一个简化的图形可视化工具。"
   ]
  },
  {
   "cell_type": "code",
   "execution_count": 8,
   "metadata": {
    "scrolled": true
   },
   "outputs": [
    {
     "name": "stdout",
     "output_type": "stream",
     "text": [
      "Couldn't import dot_parser, loading of dot files will not be possible.\n"
     ]
    },
    {
     "data": {
      "image/png": "[encoded data removed]",
      "text/plain": [
       "<IPython.core.display.Image object>"
      ]
     },
     "execution_count": 8,
     "metadata": {
      "image/png": {
       "width": 800
      }
     },
     "output_type": "execute_result"
    }
   ],
   "source": [
    "from caffe2.python import net_drawer\n",
    "from IPython import display\n",
    "graph = net_drawer.GetPydotGraph(net, rankdir=\"LR\")\n",
    "display.Image(graph.create_png(), width=800)"
   ]
  },
  {
   "cell_type": "markdown",
   "metadata": {},
   "source": [
    "我们已经定义了一个网络，但是没有执行任何内容。请记住，网络的本质上是一个保存网络定义的`protobuf`。当我们真正运行网络时，接下来会发生的事情：\n",
    "\n",
    "1. 从这个protobuf实例化C++网络对象。\n",
    "2. 调用实例化的net的Run()函数\n",
    "\n",
    "在我们使用之前，我们应该使用`ResetWrokspace()`清楚早期的工作空间的变量。\n",
    "\n",
    "有两种方式从Python运行一个网络。\n",
    "1. 使用workspace.RunNetOnce()实例化，运行并且释放这个网络。\n",
    "2. 稍微有一点复杂，涉及两部操作：(a) 调用workspace.CreateNet()来创建空工作空间所拥有的C++网络对象，(b) 通过网络名称传递给它来使用workspace.RunNet()。"
   ]
  },
  {
   "cell_type": "code",
   "execution_count": 9,
   "metadata": {
    "scrolled": false
   },
   "outputs": [
    {
     "name": "stdout",
     "output_type": "stream",
     "text": [
      "Current blobs in the workspace: []\n",
      "Blobs in the workspace after execution: [u'W', u'X', u'Y', u'b']\n",
      "W:\n",
      "[[-1.8771137   0.92778355 -0.08161756]\n",
      " [-0.12097193 -2.1138864   1.2284073 ]\n",
      " [-0.60585827 -0.2562339   0.4624799 ]\n",
      " [-0.19854297  2.1087546  -0.6328412 ]\n",
      " [-0.6575426   0.6579211  -0.1453419 ]]\n",
      "X:\n",
      "[[-0.6132486  -2.3268244   0.21757394]\n",
      " [ 0.5726079  -0.61902726 -0.01467536]]\n",
      "Y:\n",
      "[[-0.02540994  6.260098    2.0683765  -3.922635   -0.1592524 ]\n",
      " [-0.64797556  2.2212565   0.80490947 -0.4097768   0.21834779]]\n",
      "b:\n",
      "[1. 1. 1. 1. 1.]\n"
     ]
    }
   ],
   "source": [
    "workspace.ResetWorkspace()\n",
    "print(\"Current blobs in the workspace: {}\".format(workspace.Blobs()))\n",
    "workspace.RunNetOnce(net)\n",
    "print(\"Blobs in the workspace after execution: {}\".format(workspace.Blobs()))\n",
    "# Let's dump the contents of the blobs\n",
    "for name in workspace.Blobs():\n",
    "    print(\"{}:\\n{}\".format(name, workspace.FetchBlob(name)))"
   ]
  },
  {
   "cell_type": "markdown",
   "metadata": {},
   "source": [
    "现在让我们尝试第二种方法来创建网络并运行它。 \n",
    "\n",
    "1. 首先，使用`ResetWorkspace()`清除变量。 \n",
    "\n",
    "2. 然后使用`CreateNet(net_object)`创建我们之前创建的工作空间的net对象。 \n",
    "\n",
    "3. 最后，使用`RunNet(net_name)`运行网络。"
   ]
  },
  {
   "cell_type": "code",
   "execution_count": 10,
   "metadata": {
    "scrolled": true
   },
   "outputs": [
    {
     "name": "stdout",
     "output_type": "stream",
     "text": [
      "Current blobs in the workspace: []\n",
      "Blobs in the workspace after execution: [u'W', u'X', u'Y', u'b']\n",
      "W:\n",
      "[[-0.72495663  0.3761383  -0.66840994]\n",
      " [ 0.04286987  1.9306209  -0.52174044]\n",
      " [ 0.24631721  0.50984025  1.4499642 ]\n",
      " [ 2.0171852   0.31425178 -0.6691781 ]\n",
      " [-0.2863933  -0.40237466 -0.34997916]]\n",
      "X:\n",
      "[[-0.7392328   0.29804215  0.7010549 ]\n",
      " [ 0.97545576  0.19705464 -2.5136533 ]]\n",
      "Y:\n",
      "[[ 1.1794248   1.1779469   1.9863725  -0.86663985  0.84643215]\n",
      " [ 2.0471077   2.73373    -2.3039694   4.7116814   1.5210725 ]]\n",
      "b:\n",
      "[1. 1. 1. 1. 1.]\n"
     ]
    }
   ],
   "source": [
    "workspace.ResetWorkspace()\n",
    "print(\"Current blobs in the workspace: {}\".format(workspace.Blobs()))\n",
    "workspace.CreateNet(net)\n",
    "workspace.RunNet(net.Proto().name)\n",
    "print(\"Blobs in the workspace after execution: {}\".format(workspace.Blobs()))\n",
    "for name in workspace.Blobs():\n",
    "    print(\"{}:\\n{}\".format(name, workspace.FetchBlob(name)))"
   ]
  },
  {
   "cell_type": "markdown",
   "metadata": {},
   "source": [
    "RunNetOnce和RunNet之间有一些区别，但可能主要的区别是计算时间开销。 \n",
    "\n",
    "由于RunNetOnce涉及序列化在Python和C之间传递的protobuf并实例化网络，因此运行可能需要更长的时间。 \n",
    "\n",
    "让我们来看看这种情况下的开销是多少。"
   ]
  },
  {
   "cell_type": "code",
   "execution_count": 11,
   "metadata": {},
   "outputs": [
    {
     "name": "stdout",
     "output_type": "stream",
     "text": [
      "Run time per RunNetOnce: 5.71908950806e-05\n",
      "Run time per RunNet: 4.70399856567e-06\n"
     ]
    }
   ],
   "source": [
    "# It seems that %timeit magic does not work well with\n",
    "# C++ extensions so we'll basically do for loops\n",
    "start = time.time()\n",
    "for i in range(1000):\n",
    "    workspace.RunNetOnce(net)\n",
    "end = time.time()\n",
    "print('Run time per RunNetOnce: {}'.format((end - start) / 1000))\n",
    "\n",
    "start = time.time()\n",
    "for i in range(1000):\n",
    "    workspace.RunNet(net.Proto().name)\n",
    "end = time.time()\n",
    "print('Run time per RunNet: {}'.format((end - start) / 1000))"
   ]
  },
  {
   "cell_type": "code",
   "execution_count": null,
   "metadata": {
    "collapsed": true
   },
   "outputs": [],
   "source": []
  }
 ],
 "metadata": {
  "kernelspec": {
   "display_name": "Python 2",
   "language": "python",
   "name": "python2"
  },
  "language_info": {
   "codemirror_mode": {
    "name": "ipython",
    "version": 2
   },
   "file_extension": ".py",
   "mimetype": "text/x-python",
   "name": "python",
   "nbconvert_exporter": "python",
   "pygments_lexer": "ipython2",
   "version": "2.7.14"
  }
 },
 "nbformat": 4,
 "nbformat_minor": 2
}
