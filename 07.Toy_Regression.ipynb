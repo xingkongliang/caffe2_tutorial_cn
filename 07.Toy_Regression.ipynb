{
 "cells": [
  {
   "cell_type": "markdown",
   "metadata": {},
   "source": [
    "# 简易回归教程\n",
    "\n",
    "[]()\n",
    "\n",
    "# 第一部分：多项式回归"
   ]
  },
  {
   "cell_type": "code",
   "execution_count": 1,
   "metadata": {
    "collapsed": true
   },
   "outputs": [],
   "source": [
    "from __future__ import absolute_import\n",
    "from __future__ import division\n",
    "from __future__ import print_function\n",
    "from __future__ import unicode_literals\n",
    "from caffe2.python import workspace, brew, optimizer\n",
    "from caffe2.python.model_helper import ModelHelper\n",
    "import numpy as np\n",
    "%matplotlib inline\n",
    "import matplotlib.pyplot as plt\n",
    "import sklearn.datasets\n",
    "from sklearn.preprocessing import PolynomialFeatures"
   ]
  },
  {
   "cell_type": "markdown",
   "metadata": {},
   "source": [
    "## 输入\n",
    "指定回归模型是输入参数：输入样本点的个数，训练迭代的次数，SGD算法的学习率和模型的初始化权重。"
   ]
  },
  {
   "cell_type": "code",
   "execution_count": 2,
   "metadata": {
    "collapsed": true
   },
   "outputs": [],
   "source": [
    "# Number of training sample to generate\n",
    "num_samples = 200\n",
    "# Learning Rate of SGD algorithm\n",
    "learning_rate = .05\n",
    "# Number of iterations to train\n",
    "training_iters = 100\n",
    "# Initial model weights\n",
    "initial_weights = [0.,0.]"
   ]
  },
  {
   "cell_type": "markdown",
   "metadata": {},
   "source": [
    "## 创建并准备数据集\n",
    "\n",
    "现在，我们创建数据，准备用于训练的数据集。注意，我们只是在这里构建Numpy数组。可以使用任何其他数据，只要它在输入模型之前给予正确的形状。"
   ]
  },
  {
   "cell_type": "code",
   "execution_count": 3,
   "metadata": {
    "scrolled": true
   },
   "outputs": [
    {
     "name": "stdout",
     "output_type": "stream",
     "text": [
      "X Sample:\n",
      "[[ 0.92298861  0.85190798]\n",
      " [-0.22871158  0.05230899]\n",
      " [-0.28543417  0.08147267]\n",
      " [ 0.49019672  0.24029283]\n",
      " [-1.35208998  1.82814732]]\n",
      "Y Sample:\n",
      "[[1.46521607]\n",
      " [0.41152479]\n",
      " [0.78926914]\n",
      " [1.00226251]\n",
      " [2.25706641]]\n"
     ]
    },
    {
     "data": {
      "text/plain": [
       "Text(0.5,1,u'Input Training Data')"
      ]
     },
     "execution_count": 3,
     "metadata": {},
     "output_type": "execute_result"
    },
    {
     "data": {
      "image/png": "[encoded data removed]",
      "text/plain": [
       "<matplotlib.figure.Figure at 0x7fdf8c238f50>"
      ]
     },
     "metadata": {},
     "output_type": "display_data"
    }
   ],
   "source": [
    "# Create the original observations\n",
    "orig_X,_ = sklearn.datasets.make_regression(n_samples=num_samples,n_features=1,noise=5)\n",
    "poly = PolynomialFeatures(degree=2, include_bias=False)\n",
    "# Transform the features into second order polynomial features\n",
    "xx_ = poly.fit_transform(orig_X)\n",
    "\n",
    "# Extract the predictors and the values from the manufactured data\n",
    "X = [i[0] for i in xx_]\n",
    "Y_gt = [i[1] for i in xx_]\n",
    "noise = np.random.uniform(size=(len(Y_gt)))\n",
    "# Add some noise to the ground truth values\n",
    "Y_gt += noise\n",
    "\n",
    "# Shape the ground truth values for use with the model\n",
    "Y_gt = np.reshape(Y_gt,(-1,1))\n",
    "# Format the input features. Recall, we accomplish polynomial regression by\n",
    "#   including the original and the polynomial version of the predictors\n",
    "#   as features of the model\n",
    "X = np.hstack((np.array(X).reshape(-1,1),np.array(X).reshape(-1,1)**2))\n",
    "\n",
    "# Print a sample of the input data. X is the list of 2-feature input observations \n",
    "#   and Y is the list of ground truth values associated with each observation\n",
    "print(\"X Sample:\\n{}\".format(X[:5]))\n",
    "print(\"Y Sample:\\n{}\".format(Y_gt[:5]))\n",
    "\n",
    "# Plot the input data\n",
    "plt.scatter([i[0] for i in X],Y_gt,label=\"original data\",color='b')\n",
    "plt.xlabel(\"x\")\n",
    "plt.ylabel(\"y\")\n",
    "plt.title(\"Input Training Data\")"
   ]
  },
  {
   "cell_type": "markdown",
   "metadata": {},
   "source": [
    "## 创建模型\n",
    "\n",
    "### 定义模型结构\n",
    "\n"
   ]
  },
  {
   "cell_type": "code",
   "execution_count": 4,
   "metadata": {},
   "outputs": [
    {
     "name": "stdout",
     "output_type": "stream",
     "text": [
      "************* Predict Net *************\n",
      "name: \"regression_model\"\n",
      "op {\n",
      "  input: \"X\"\n",
      "  input: \"y_pred_w\"\n",
      "  input: \"y_pred_b\"\n",
      "  output: \"y_pred\"\n",
      "  name: \"\"\n",
      "  type: \"FC\"\n",
      "  arg {\n",
      "    name: \"use_cudnn\"\n",
      "    i: 1\n",
      "  }\n",
      "  arg {\n",
      "    name: \"order\"\n",
      "    s: \"NCHW\"\n",
      "  }\n",
      "  arg {\n",
      "    name: \"cudnn_exhaustive_search\"\n",
      "    i: 0\n",
      "  }\n",
      "}\n",
      "external_input: \"X\"\n",
      "external_input: \"y_pred_w\"\n",
      "external_input: \"y_pred_b\"\n",
      "\n",
      "\n",
      "************* Init Net *************\n",
      "name: \"regression_model_init\"\n",
      "op {\n",
      "  output: \"y_pred_w\"\n",
      "  name: \"\"\n",
      "  type: \"XavierFill\"\n",
      "  arg {\n",
      "    name: \"shape\"\n",
      "    ints: 1\n",
      "    ints: 2\n",
      "  }\n",
      "}\n",
      "op {\n",
      "  output: \"y_pred_b\"\n",
      "  name: \"\"\n",
      "  type: \"ConstantFill\"\n",
      "  arg {\n",
      "    name: \"shape\"\n",
      "    ints: 1\n",
      "  }\n",
      "}\n",
      "\n"
     ]
    }
   ],
   "source": [
    "# Create the model helper object we will use to create the regression model\n",
    "regression_model = ModelHelper(name=\"regression_model\")\n",
    "\n",
    "# Add the FC layer, which is the main component of a linear regression model\n",
    "y_pred = brew.fc(regression_model,'X','y_pred', dim_in=2, dim_out=1)\n",
    "\n",
    "# Print the predict and init net to see what protobuf was created for this model\n",
    "print(\"************* Predict Net *************\")\n",
    "print(regression_model.net.Proto())\n",
    "print(\"\\n************* Init Net *************\")\n",
    "print(regression_model.param_init_net.Proto())"
   ]
  },
  {
   "cell_type": "markdown",
   "metadata": {},
   "source": [
    "### 添加训练阶段的操作并且填充workspace\n",
    "\n",
    "在这个非常重要的步骤中，我们指定损失函数，设定SGD训练算法，填充并且初始化workspace，初始化模型的权重和偏置。"
   ]
  },
  {
   "cell_type": "code",
   "execution_count": 5,
   "metadata": {},
   "outputs": [
    {
     "data": {
      "text/plain": [
       "True"
      ]
     },
     "execution_count": 5,
     "metadata": {},
     "output_type": "execute_result"
    }
   ],
   "source": [
    "# The loss function is computed by a squared L2 distance, \n",
    "#   and then averaged over all items.\n",
    "dist = regression_model.SquaredL2Distance(['Y_gt', y_pred], \"dist\")\n",
    "loss = regression_model.AveragedLoss(dist, \"loss\")\n",
    "\n",
    "# Add the gradient operators and setup the SGD algorithm\n",
    "regression_model.AddGradientOperators([loss])\n",
    "optimizer.build_sgd(regression_model, base_learning_rate=learning_rate)\n",
    "\n",
    "# Prime the workspace with some data\n",
    "workspace.FeedBlob(\"Y_gt\",Y_gt.astype(np.float32))\n",
    "workspace.FeedBlob(\"X\",X.astype(np.float32))\n",
    "\n",
    "# Run the init net to prepare the workspace then create the net\n",
    "workspace.RunNetOnce(regression_model.param_init_net)\n",
    "workspace.CreateNet(regression_model.net)\n",
    "\n",
    "# Inject our desired initial weights and bias\n",
    "workspace.FeedBlob(\"y_pred_w\",np.array([initial_weights]).astype(np.float32))\n",
    "workspace.FeedBlob(\"y_pred_b\",np.array([0.]).astype(np.float32))"
   ]
  },
  {
   "cell_type": "markdown",
   "metadata": {},
   "source": [
    "### 执行训练"
   ]
  },
  {
   "cell_type": "code",
   "execution_count": 6,
   "metadata": {},
   "outputs": [
    {
     "name": "stdout",
     "output_type": "stream",
     "text": [
      "Training Complete\n"
     ]
    }
   ],
   "source": [
    "# Run the training for training_iters\n",
    "for i in range(training_iters):\n",
    "    workspace.RunNet(regression_model.net)\n",
    "\n",
    "print(\"Training Complete\")"
   ]
  },
  {
   "cell_type": "markdown",
   "metadata": {},
   "source": [
    "## 提取结果\n"
   ]
  },
  {
   "cell_type": "code",
   "execution_count": 7,
   "metadata": {},
   "outputs": [
    {
     "name": "stdout",
     "output_type": "stream",
     "text": [
      "Best Fit Line: 0.99461*x^2 + 0.0179*x + 0.52854\n"
     ]
    },
    {
     "data": {
      "image/png": "[encoded data removed]",
      "text/plain": [
       "<matplotlib.figure.Figure at 0x7fdf1ab3cd50>"
      ]
     },
     "metadata": {},
     "output_type": "display_data"
    }
   ],
   "source": [
    "\n",
    "# Extract the learned coes and intercept from the workspace# Extra \n",
    "coes = workspace.FetchBlob(\"y_pred_w\")[0]\n",
    "intercept = workspace.FetchBlob(\"y_pred_b\")\n",
    "\n",
    "# Calculate the regression line for plotting\n",
    "x_vals = np.linspace(orig_X.min(), orig_X.max(),100)\n",
    "regression_result = intercept[0] + coes[0]*x_vals + coes[1]*(x_vals**2)\n",
    "print(\"Best Fit Line: {}*x^2 + {}*x + {}\".format(round(coes[1],5), round(coes[0],5), round(intercept[0],5)))\n",
    "\n",
    "# Plot the results of the regression\n",
    "plt.scatter([i[0] for i in X],Y_gt,label=\"original data\",color='b')\n",
    "plt.plot(x_vals,regression_result,label=\"regression result\",color='r')\n",
    "plt.legend()\n",
    "plt.xlabel(\"x\")\n",
    "plt.ylabel(\"y\")\n",
    "plt.title(\"Polynomial Regression Fit: ${{{}}}x^2 + {{{}}}x + {{{}}}$\".format(round(coes[1],5), round(coes[0],5), round(intercept[0],5)))\n",
    "plt.show()"
   ]
  },
  {
   "cell_type": "markdown",
   "metadata": {},
   "source": [
    "# 第二部分：表达线性回归示例"
   ]
  },
  {
   "cell_type": "code",
   "execution_count": 8,
   "metadata": {},
   "outputs": [
    {
     "data": {
      "image/png": "[encoded data removed]",
      "text/plain": [
       "<matplotlib.figure.Figure at 0x7fdf1d0f4190>"
      ]
     },
     "metadata": {},
     "output_type": "display_data"
    }
   ],
   "source": [
    "#####################################################################\n",
    "# Initialize data\n",
    "#####################################################################\n",
    "X,Y_gt = sklearn.datasets.make_regression(n_samples=100,n_features=1,noise=10)\n",
    "Y_gt = np.reshape(Y_gt,(-1,1))\n",
    "Y_gt /= 100.\n",
    "\n",
    "#####################################################################\n",
    "# Create and train model\n",
    "#####################################################################\n",
    "# Construct model with single FC layer\n",
    "regression_model = ModelHelper(name=\"regression_model\")\n",
    "y_pred = brew.fc(regression_model,'X','y_pred', dim_in=1, dim_out=1)\n",
    "\n",
    "# Specify Loss function\n",
    "dist = regression_model.SquaredL2Distance(['Y_gt', y_pred], \"dist\")\n",
    "loss = regression_model.AveragedLoss(dist, \"loss\")\n",
    "\n",
    "# Get gradients for all the computations above.\n",
    "regression_model.AddGradientOperators([loss])\n",
    "optimizer.build_sgd(regression_model, base_learning_rate=0.05)\n",
    "\n",
    "# Prime and prepare workspace for training\n",
    "workspace.FeedBlob(\"Y_gt\",Y_gt.astype(np.float32))\n",
    "workspace.FeedBlob(\"X\",X.astype(np.float32))\n",
    "workspace.RunNetOnce(regression_model.param_init_net)\n",
    "workspace.CreateNet(regression_model.net)\n",
    "\n",
    "# Set the initial weight and bias to 0\n",
    "workspace.FeedBlob(\"y_pred_w\",np.array([[0.]]).astype(np.float32))\n",
    "workspace.FeedBlob(\"y_pred_b\",np.array([0.]).astype(np.float32))\n",
    "\n",
    "# Train the model\n",
    "for i in range(100):\n",
    "    workspace.RunNet(regression_model.net)\n",
    "\n",
    "#####################################################################\n",
    "# Collect and format results\n",
    "#####################################################################\n",
    "# Grab the learned weight and bias from workspace\n",
    "coe = workspace.FetchBlob(\"y_pred_w\")[0]\n",
    "intercept = workspace.FetchBlob(\"y_pred_b\")\n",
    "\n",
    "# Calculate the regression line for plotting\n",
    "x_vals = range(-3,4)\n",
    "regression_result = x_vals*coe + intercept\n",
    "\n",
    "# Plot the results\n",
    "plt.scatter(X,Y_gt,label=\"original data\",color='b')\n",
    "plt.plot(x_vals,regression_result,label=\"regression result\",color='r')\n",
    "plt.legend()\n",
    "plt.xlabel(\"x\")\n",
    "plt.ylabel(\"y\")\n",
    "plt.title(\"Regression Line: ${{{}}}x + {{{}}}$\".format(round(coe,5), round(intercept[0],5)))\n",
    "plt.show()"
   ]
  },
  {
   "cell_type": "code",
   "execution_count": null,
   "metadata": {
    "collapsed": true
   },
   "outputs": [],
   "source": []
  }
 ],
 "metadata": {
  "kernelspec": {
   "display_name": "Python [conda root]",
   "language": "python",
   "name": "conda-root-py"
  },
  "language_info": {
   "codemirror_mode": {
    "name": "ipython",
    "version": 2
   },
   "file_extension": ".py",
   "mimetype": "text/x-python",
   "name": "python",
   "nbconvert_exporter": "python",
   "pygments_lexer": "ipython2",
   "version": "2.7.14"
  }
 },
 "nbformat": 4,
 "nbformat_minor": 2
}
