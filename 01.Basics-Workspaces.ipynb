{
 "cells": [
  {
   "cell_type": "markdown",
   "metadata": {},
   "source": [
    "# Caffe2 基本概念 - Workspace"
   ]
  },
  {
   "cell_type": "markdown",
   "metadata": {},
   "source": [
    "在这个教程中，我们将学习一些Caffe2的基本概念：workspace。\n",
    "\n",
    "首先，让我们导入caffe2的 `core` 和 `workspace`，这两项是你最需要的。如果你想操作由Caffe2生成的协议缓冲区，你也需要从caffe2.proto导入caffe2_pb2。"
   ]
  },
  {
   "cell_type": "code",
   "execution_count": 1,
   "metadata": {
    "collapsed": true
   },
   "outputs": [],
   "source": [
    "from __future__ import absolute_import\n",
    "from __future__ import division\n",
    "from __future__ import print_function\n",
    "from __future__ import unicode_literals\n",
    "\n",
    "# 导入一些标准库\n",
    "from matplotlib import pyplot\n",
    "import numpy as np\n",
    "import time\n",
    "\n",
    "# Fof Caffe2\n",
    "from caffe2.python import core, workspace\n",
    "from caffe2.proto import caffe2_pb2\n",
    "\n",
    "%matplotlib inline"
   ]
  },
  {
   "cell_type": "markdown",
   "metadata": {},
   "source": [
    "## Workspaces"
   ]
  },
  {
   "cell_type": "code",
   "execution_count": 2,
   "metadata": {},
   "outputs": [
    {
     "name": "stdout",
     "output_type": "stream",
     "text": [
      "Current blobs in the workspace: []\n",
      "Workspace has blob 'X'? False\n"
     ]
    }
   ],
   "source": [
    "print(\"Current blobs in the workspace: {}\".format(workspace.Blobs()))\n",
    "print(\"Workspace has blob 'X'? {}\".format(workspace.HasBlob(\"X\")))"
   ]
  },
  {
   "cell_type": "markdown",
   "metadata": {},
   "source": [
    "我们可以使用FeedBlob()把blobs送入workspace。"
   ]
  },
  {
   "cell_type": "code",
   "execution_count": 3,
   "metadata": {},
   "outputs": [
    {
     "name": "stdout",
     "output_type": "stream",
     "text": [
      "Generated X from numpy:\n",
      "[[ 0.53093946  0.3100414  -0.04606299]\n",
      " [-0.2087793   0.19440559 -0.10280976]]\n"
     ]
    },
    {
     "data": {
      "text/plain": [
       "True"
      ]
     },
     "execution_count": 3,
     "metadata": {},
     "output_type": "execute_result"
    }
   ],
   "source": [
    "X = np.random.randn(2, 3).astype(np.float32)\n",
    "print(\"Generated X from numpy:\\n{}\".format(X))\n",
    "workspace.FeedBlob(\"X\", X)"
   ]
  },
  {
   "cell_type": "markdown",
   "metadata": {},
   "source": [
    "使用FetchBlobs()获取Blob。"
   ]
  },
  {
   "cell_type": "code",
   "execution_count": 4,
   "metadata": {
    "scrolled": true
   },
   "outputs": [
    {
     "name": "stdout",
     "output_type": "stream",
     "text": [
      "Current blobs in the workspace: [u'X']\n",
      "Workspace has blob 'X'? True\n",
      "Fetched X:\n",
      "[[ 0.53093946  0.3100414  -0.04606299]\n",
      " [-0.2087793   0.19440559 -0.10280976]]\n"
     ]
    }
   ],
   "source": [
    "print(\"Current blobs in the workspace: {}\".format(workspace.Blobs()))\n",
    "print(\"Workspace has blob 'X'? {}\".format(workspace.HasBlob(\"X\")))\n",
    "print(\"Fetched X:\\n{}\".format(workspace.FetchBlob(\"X\")))"
   ]
  },
  {
   "cell_type": "markdown",
   "metadata": {},
   "source": [
    "我们验证一下数组是否相等。"
   ]
  },
  {
   "cell_type": "code",
   "execution_count": 5,
   "metadata": {
    "collapsed": true
   },
   "outputs": [],
   "source": [
    "np.testing.assert_array_equal(X, workspace.FetchBlob(\"X\"))"
   ]
  },
  {
   "cell_type": "code",
   "execution_count": 6,
   "metadata": {
    "scrolled": true
   },
   "outputs": [
    {
     "name": "stdout",
     "output_type": "stream",
     "text": [
      "[enforce fail at pybind_state.cc:174] ws->HasBlob(name). Can't find blob: invincible_pink_unicorn \n"
     ]
    }
   ],
   "source": [
    "try:\n",
    "    workspace.FetchBlob(\"invincible_pink_unicorn\")\n",
    "except RuntimeError as err:\n",
    "    print(err)"
   ]
  },
  {
   "cell_type": "markdown",
   "metadata": {},
   "source": [
    "你可以在Python中使用不同名称的多个工作空间，并在它们之间切换。 不同工作区中的Blob彼此分离。 您可以使用`CurrentWorkspace`查询当前工作空间。 让我们尝试按名称（gutentag）切换工作区，如果它不存在，则创建一个新工作区。"
   ]
  },
  {
   "cell_type": "markdown",
   "metadata": {},
   "source": [
    "打印当前workspace空间名称。当存在多个workspace时，使用SwitchWorkspace()转换当前空间。"
   ]
  },
  {
   "cell_type": "code",
   "execution_count": 7,
   "metadata": {},
   "outputs": [
    {
     "name": "stdout",
     "output_type": "stream",
     "text": [
      "Current workspace: default\n",
      "Current blobs in the workspace: [u'X']\n",
      "Current workspace: gutentag\n",
      "Current blobs in the workspace: []\n"
     ]
    }
   ],
   "source": [
    "print(\"Current workspace: {}\".format(workspace.CurrentWorkspace()))\n",
    "print(\"Current blobs in the workspace: {}\".format(workspace.Blobs()))\n",
    "\n",
    "# Switch the workspace. The second argument \"True\" means creating \n",
    "# the workspace if it is missing.\n",
    "workspace.SwitchWorkspace(\"gutentag\", True)\n",
    "\n",
    "# Let's print the current workspace. Note that there is nothing in the\n",
    "# workspace yet.\n",
    "print(\"Current workspace: {}\".format(workspace.CurrentWorkspace()))\n",
    "print(\"Current blobs in the workspace: {}\".format(workspace.Blobs()))"
   ]
  },
  {
   "cell_type": "markdown",
   "metadata": {},
   "source": [
    "让我们更改回默认workspace。"
   ]
  },
  {
   "cell_type": "code",
   "execution_count": 8,
   "metadata": {},
   "outputs": [
    {
     "name": "stdout",
     "output_type": "stream",
     "text": [
      "Current workspace: default\n",
      "Current blobs in the workspace: [u'X']\n"
     ]
    }
   ],
   "source": [
    "workspace.SwitchWorkspace(\"default\")\n",
    "print(\"Current workspace: {}\".format(workspace.CurrentWorkspace()))\n",
    "print(\"Current blobs in the workspace: {}\".format(workspace.Blobs()))"
   ]
  },
  {
   "cell_type": "markdown",
   "metadata": {},
   "source": [
    "最后使用`ResetWorkspace()`清理当前空间。"
   ]
  },
  {
   "cell_type": "code",
   "execution_count": 9,
   "metadata": {},
   "outputs": [
    {
     "name": "stdout",
     "output_type": "stream",
     "text": [
      "Current blobs in the workspace after reset: []\n"
     ]
    }
   ],
   "source": [
    "workspace.ResetWorkspace()\n",
    "print(\"Current blobs in the workspace after reset: {}\".format(workspace.Blobs()))"
   ]
  },
  {
   "cell_type": "code",
   "execution_count": null,
   "metadata": {
    "collapsed": true
   },
   "outputs": [],
   "source": []
  }
 ],
 "metadata": {
  "kernelspec": {
   "display_name": "Python 2",
   "language": "python",
   "name": "python2"
  },
  "language_info": {
   "codemirror_mode": {
    "name": "ipython",
    "version": 2
   },
   "file_extension": ".py",
   "mimetype": "text/x-python",
   "name": "python",
   "nbconvert_exporter": "python",
   "pygments_lexer": "ipython2",
   "version": "2.7.14"
  }
 },
 "nbformat": 4,
 "nbformat_minor": 2
}
